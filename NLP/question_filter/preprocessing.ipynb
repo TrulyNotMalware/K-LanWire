{
 "metadata": {
  "language_info": {
   "codemirror_mode": {
    "name": "ipython",
    "version": 3
   },
   "file_extension": ".py",
   "mimetype": "text/x-python",
   "name": "python",
   "nbconvert_exporter": "python",
   "pygments_lexer": "ipython3",
   "version": "3.6.5-final"
  },
  "orig_nbformat": 2,
  "kernelspec": {
   "name": "python3",
   "display_name": "Python 3",
   "language": "python"
  }
 },
 "nbformat": 4,
 "nbformat_minor": 2,
 "cells": [
  {
   "source": [
    "### 의도 학습 데이터 전처리"
   ],
   "cell_type": "markdown",
   "metadata": {}
  },
  {
   "cell_type": "code",
   "execution_count": 1,
   "metadata": {},
   "outputs": [
    {
     "output_type": "stream",
     "name": "stdout",
     "text": [
      "(61255, 2)\n"
     ]
    },
    {
     "output_type": "execute_result",
     "data": {
      "text/plain": [
       "   0    1\n",
       "0  0  연두색\n",
       "1  0   되면\n",
       "2  0    오\n",
       "3  0  그걸루\n",
       "4  0  연구소"
      ],
      "text/html": "<div>\n<style scoped>\n    .dataframe tbody tr th:only-of-type {\n        vertical-align: middle;\n    }\n\n    .dataframe tbody tr th {\n        vertical-align: top;\n    }\n\n    .dataframe thead th {\n        text-align: right;\n    }\n</style>\n<table border=\"1\" class=\"dataframe\">\n  <thead>\n    <tr style=\"text-align: right;\">\n      <th></th>\n      <th>0</th>\n      <th>1</th>\n    </tr>\n  </thead>\n  <tbody>\n    <tr>\n      <th>0</th>\n      <td>0</td>\n      <td>연두색</td>\n    </tr>\n    <tr>\n      <th>1</th>\n      <td>0</td>\n      <td>되면</td>\n    </tr>\n    <tr>\n      <th>2</th>\n      <td>0</td>\n      <td>오</td>\n    </tr>\n    <tr>\n      <th>3</th>\n      <td>0</td>\n      <td>그걸루</td>\n    </tr>\n    <tr>\n      <th>4</th>\n      <td>0</td>\n      <td>연구소</td>\n    </tr>\n  </tbody>\n</table>\n</div>"
     },
     "metadata": {},
     "execution_count": 1
    }
   ],
   "source": [
    "import pandas as pd\n",
    "\n",
    "df1 = pd.read_csv('fci_test.txt', sep='\\t', header=None)\n",
    "df2 = pd.read_csv('fci_train_val.txt', sep='\\t', header=None)\n",
    "df = pd.concat([df1, df2], ignore_index=True)\n",
    "print(df.shape)\n",
    "df.head(5)"
   ]
  },
  {
   "cell_type": "code",
   "execution_count": 2,
   "metadata": {},
   "outputs": [
    {
     "output_type": "stream",
     "name": "stdout",
     "text": [
      "(50224, 2)\n"
     ]
    },
    {
     "output_type": "execute_result",
     "data": {
      "text/plain": [
       "     0                                   1\n",
       "600  1  사람이 죽기 전에 소중한 사람을 위해 하나쯤은 꼭 해주구 간다\n",
       "601  1     그리고 동료 후배 선수들에도 충분히 큰 귀감이 될것입니다\n",
       "602  1                         이제야 다 기억이 나\n",
       "603  1             산 사람을 버리는 고려장과는 차원이 다르다\n",
       "604  1                     자네 진짜 고통은 그때부터야"
      ],
      "text/html": "<div>\n<style scoped>\n    .dataframe tbody tr th:only-of-type {\n        vertical-align: middle;\n    }\n\n    .dataframe tbody tr th {\n        vertical-align: top;\n    }\n\n    .dataframe thead th {\n        text-align: right;\n    }\n</style>\n<table border=\"1\" class=\"dataframe\">\n  <thead>\n    <tr style=\"text-align: right;\">\n      <th></th>\n      <th>0</th>\n      <th>1</th>\n    </tr>\n  </thead>\n  <tbody>\n    <tr>\n      <th>600</th>\n      <td>1</td>\n      <td>사람이 죽기 전에 소중한 사람을 위해 하나쯤은 꼭 해주구 간다</td>\n    </tr>\n    <tr>\n      <th>601</th>\n      <td>1</td>\n      <td>그리고 동료 후배 선수들에도 충분히 큰 귀감이 될것입니다</td>\n    </tr>\n    <tr>\n      <th>602</th>\n      <td>1</td>\n      <td>이제야 다 기억이 나</td>\n    </tr>\n    <tr>\n      <th>603</th>\n      <td>1</td>\n      <td>산 사람을 버리는 고려장과는 차원이 다르다</td>\n    </tr>\n    <tr>\n      <th>604</th>\n      <td>1</td>\n      <td>자네 진짜 고통은 그때부터야</td>\n    </tr>\n  </tbody>\n</table>\n</div>"
     },
     "metadata": {},
     "execution_count": 2
    }
   ],
   "source": [
    "drop = [0, 4, 6]\n",
    "df = df[df[0] != 0]\n",
    "df = df[df[0] != 4]\n",
    "df = df[df[0] != 6]\n",
    "print(df.shape)\n",
    "df.head(5)"
   ]
  },
  {
   "cell_type": "code",
   "execution_count": 3,
   "metadata": {},
   "outputs": [
    {
     "output_type": "execute_result",
     "data": {
      "text/plain": [
       "     0                                   1  label\n",
       "600  1  사람이 죽기 전에 소중한 사람을 위해 하나쯤은 꼭 해주구 간다      0\n",
       "601  1     그리고 동료 후배 선수들에도 충분히 큰 귀감이 될것입니다      0\n",
       "602  1                         이제야 다 기억이 나      0\n",
       "603  1             산 사람을 버리는 고려장과는 차원이 다르다      0\n",
       "604  1                     자네 진짜 고통은 그때부터야      0"
      ],
      "text/html": "<div>\n<style scoped>\n    .dataframe tbody tr th:only-of-type {\n        vertical-align: middle;\n    }\n\n    .dataframe tbody tr th {\n        vertical-align: top;\n    }\n\n    .dataframe thead th {\n        text-align: right;\n    }\n</style>\n<table border=\"1\" class=\"dataframe\">\n  <thead>\n    <tr style=\"text-align: right;\">\n      <th></th>\n      <th>0</th>\n      <th>1</th>\n      <th>label</th>\n    </tr>\n  </thead>\n  <tbody>\n    <tr>\n      <th>600</th>\n      <td>1</td>\n      <td>사람이 죽기 전에 소중한 사람을 위해 하나쯤은 꼭 해주구 간다</td>\n      <td>0</td>\n    </tr>\n    <tr>\n      <th>601</th>\n      <td>1</td>\n      <td>그리고 동료 후배 선수들에도 충분히 큰 귀감이 될것입니다</td>\n      <td>0</td>\n    </tr>\n    <tr>\n      <th>602</th>\n      <td>1</td>\n      <td>이제야 다 기억이 나</td>\n      <td>0</td>\n    </tr>\n    <tr>\n      <th>603</th>\n      <td>1</td>\n      <td>산 사람을 버리는 고려장과는 차원이 다르다</td>\n      <td>0</td>\n    </tr>\n    <tr>\n      <th>604</th>\n      <td>1</td>\n      <td>자네 진짜 고통은 그때부터야</td>\n      <td>0</td>\n    </tr>\n  </tbody>\n</table>\n</div>"
     },
     "metadata": {},
     "execution_count": 3
    }
   ],
   "source": [
    "df['label'] = 0\n",
    "df['label'].loc[df[0] == 2] = 1\n",
    "df.head(5)"
   ]
  },
  {
   "cell_type": "code",
   "execution_count": 4,
   "metadata": {},
   "outputs": [
    {
     "output_type": "stream",
     "name": "stdout",
     "text": [
      "(17869, 3)\n"
     ]
    },
    {
     "output_type": "execute_result",
     "data": {
      "text/plain": [
       "      0                        1  label\n",
       "2430  2         현재 집안 기온이 어떻게 되니      1\n",
       "2431  2            동기 모임 장소가 어디야      1\n",
       "2432  2  문학과 예술 중에서 추천할 만한 강좌 있어      1\n",
       "2433  2     다음달 필리핀 최고 기온 좀 검색해줘      1\n",
       "2434  2       거실에 불이 켜져 있는지 보고 와      1"
      ],
      "text/html": "<div>\n<style scoped>\n    .dataframe tbody tr th:only-of-type {\n        vertical-align: middle;\n    }\n\n    .dataframe tbody tr th {\n        vertical-align: top;\n    }\n\n    .dataframe thead th {\n        text-align: right;\n    }\n</style>\n<table border=\"1\" class=\"dataframe\">\n  <thead>\n    <tr style=\"text-align: right;\">\n      <th></th>\n      <th>0</th>\n      <th>1</th>\n      <th>label</th>\n    </tr>\n  </thead>\n  <tbody>\n    <tr>\n      <th>2430</th>\n      <td>2</td>\n      <td>현재 집안 기온이 어떻게 되니</td>\n      <td>1</td>\n    </tr>\n    <tr>\n      <th>2431</th>\n      <td>2</td>\n      <td>동기 모임 장소가 어디야</td>\n      <td>1</td>\n    </tr>\n    <tr>\n      <th>2432</th>\n      <td>2</td>\n      <td>문학과 예술 중에서 추천할 만한 강좌 있어</td>\n      <td>1</td>\n    </tr>\n    <tr>\n      <th>2433</th>\n      <td>2</td>\n      <td>다음달 필리핀 최고 기온 좀 검색해줘</td>\n      <td>1</td>\n    </tr>\n    <tr>\n      <th>2434</th>\n      <td>2</td>\n      <td>거실에 불이 켜져 있는지 보고 와</td>\n      <td>1</td>\n    </tr>\n  </tbody>\n</table>\n</div>"
     },
     "metadata": {},
     "execution_count": 4
    }
   ],
   "source": [
    "tmp_pos = df.loc[df['label'] == 1]\n",
    "print(tmp_pos.shape)\n",
    "tmp_pos.head(5)"
   ]
  },
  {
   "cell_type": "code",
   "execution_count": 5,
   "metadata": {},
   "outputs": [
    {
     "output_type": "stream",
     "name": "stdout",
     "text": [
      "(32355, 3)\n"
     ]
    },
    {
     "output_type": "execute_result",
     "data": {
      "text/plain": [
       "     0                                   1  label\n",
       "600  1  사람이 죽기 전에 소중한 사람을 위해 하나쯤은 꼭 해주구 간다      0\n",
       "601  1     그리고 동료 후배 선수들에도 충분히 큰 귀감이 될것입니다      0\n",
       "602  1                         이제야 다 기억이 나      0\n",
       "603  1             산 사람을 버리는 고려장과는 차원이 다르다      0\n",
       "604  1                     자네 진짜 고통은 그때부터야      0"
      ],
      "text/html": "<div>\n<style scoped>\n    .dataframe tbody tr th:only-of-type {\n        vertical-align: middle;\n    }\n\n    .dataframe tbody tr th {\n        vertical-align: top;\n    }\n\n    .dataframe thead th {\n        text-align: right;\n    }\n</style>\n<table border=\"1\" class=\"dataframe\">\n  <thead>\n    <tr style=\"text-align: right;\">\n      <th></th>\n      <th>0</th>\n      <th>1</th>\n      <th>label</th>\n    </tr>\n  </thead>\n  <tbody>\n    <tr>\n      <th>600</th>\n      <td>1</td>\n      <td>사람이 죽기 전에 소중한 사람을 위해 하나쯤은 꼭 해주구 간다</td>\n      <td>0</td>\n    </tr>\n    <tr>\n      <th>601</th>\n      <td>1</td>\n      <td>그리고 동료 후배 선수들에도 충분히 큰 귀감이 될것입니다</td>\n      <td>0</td>\n    </tr>\n    <tr>\n      <th>602</th>\n      <td>1</td>\n      <td>이제야 다 기억이 나</td>\n      <td>0</td>\n    </tr>\n    <tr>\n      <th>603</th>\n      <td>1</td>\n      <td>산 사람을 버리는 고려장과는 차원이 다르다</td>\n      <td>0</td>\n    </tr>\n    <tr>\n      <th>604</th>\n      <td>1</td>\n      <td>자네 진짜 고통은 그때부터야</td>\n      <td>0</td>\n    </tr>\n  </tbody>\n</table>\n</div>"
     },
     "metadata": {},
     "execution_count": 5
    }
   ],
   "source": [
    "tmp_neg = df.loc[df['label'] != 1]\n",
    "print(tmp_neg.shape)\n",
    "tmp_neg.head(5)"
   ]
  },
  {
   "cell_type": "code",
   "execution_count": 6,
   "metadata": {},
   "outputs": [
    {
     "output_type": "stream",
     "name": "stdout",
     "text": [
      "(17869, 3)\n"
     ]
    },
    {
     "output_type": "execute_result",
     "data": {
      "text/plain": [
       "       0                        1  label\n",
       "56808  1            구월 이십일에 이민 간다      0\n",
       "24521  1               내일 매우 쌀쌀하데      0\n",
       "25191  1  니 성격에 고택 넘겨주구 헤어질 거 같아서      0\n",
       "56577  1              칼슘제를 먹어야 겠어      0\n",
       "12647  1     약속을 깨는 사람이랑은 영원히 절교야      0"
      ],
      "text/html": "<div>\n<style scoped>\n    .dataframe tbody tr th:only-of-type {\n        vertical-align: middle;\n    }\n\n    .dataframe tbody tr th {\n        vertical-align: top;\n    }\n\n    .dataframe thead th {\n        text-align: right;\n    }\n</style>\n<table border=\"1\" class=\"dataframe\">\n  <thead>\n    <tr style=\"text-align: right;\">\n      <th></th>\n      <th>0</th>\n      <th>1</th>\n      <th>label</th>\n    </tr>\n  </thead>\n  <tbody>\n    <tr>\n      <th>56808</th>\n      <td>1</td>\n      <td>구월 이십일에 이민 간다</td>\n      <td>0</td>\n    </tr>\n    <tr>\n      <th>24521</th>\n      <td>1</td>\n      <td>내일 매우 쌀쌀하데</td>\n      <td>0</td>\n    </tr>\n    <tr>\n      <th>25191</th>\n      <td>1</td>\n      <td>니 성격에 고택 넘겨주구 헤어질 거 같아서</td>\n      <td>0</td>\n    </tr>\n    <tr>\n      <th>56577</th>\n      <td>1</td>\n      <td>칼슘제를 먹어야 겠어</td>\n      <td>0</td>\n    </tr>\n    <tr>\n      <th>12647</th>\n      <td>1</td>\n      <td>약속을 깨는 사람이랑은 영원히 절교야</td>\n      <td>0</td>\n    </tr>\n  </tbody>\n</table>\n</div>"
     },
     "metadata": {},
     "execution_count": 6
    }
   ],
   "source": [
    "tmp_neg = tmp_neg.sample(n=tmp_pos.shape[0])\n",
    "print(tmp_neg.shape)\n",
    "tmp_neg.head(5)"
   ]
  },
  {
   "cell_type": "code",
   "execution_count": 7,
   "metadata": {},
   "outputs": [
    {
     "output_type": "stream",
     "name": "stdout",
     "text": [
      "(35738, 3)\n"
     ]
    },
    {
     "output_type": "execute_result",
     "data": {
      "text/plain": [
       "   0                        1  label\n",
       "0  2         현재 집안 기온이 어떻게 되니      1\n",
       "1  2            동기 모임 장소가 어디야      1\n",
       "2  2  문학과 예술 중에서 추천할 만한 강좌 있어      1\n",
       "3  2     다음달 필리핀 최고 기온 좀 검색해줘      1\n",
       "4  2       거실에 불이 켜져 있는지 보고 와      1"
      ],
      "text/html": "<div>\n<style scoped>\n    .dataframe tbody tr th:only-of-type {\n        vertical-align: middle;\n    }\n\n    .dataframe tbody tr th {\n        vertical-align: top;\n    }\n\n    .dataframe thead th {\n        text-align: right;\n    }\n</style>\n<table border=\"1\" class=\"dataframe\">\n  <thead>\n    <tr style=\"text-align: right;\">\n      <th></th>\n      <th>0</th>\n      <th>1</th>\n      <th>label</th>\n    </tr>\n  </thead>\n  <tbody>\n    <tr>\n      <th>0</th>\n      <td>2</td>\n      <td>현재 집안 기온이 어떻게 되니</td>\n      <td>1</td>\n    </tr>\n    <tr>\n      <th>1</th>\n      <td>2</td>\n      <td>동기 모임 장소가 어디야</td>\n      <td>1</td>\n    </tr>\n    <tr>\n      <th>2</th>\n      <td>2</td>\n      <td>문학과 예술 중에서 추천할 만한 강좌 있어</td>\n      <td>1</td>\n    </tr>\n    <tr>\n      <th>3</th>\n      <td>2</td>\n      <td>다음달 필리핀 최고 기온 좀 검색해줘</td>\n      <td>1</td>\n    </tr>\n    <tr>\n      <th>4</th>\n      <td>2</td>\n      <td>거실에 불이 켜져 있는지 보고 와</td>\n      <td>1</td>\n    </tr>\n  </tbody>\n</table>\n</div>"
     },
     "metadata": {},
     "execution_count": 7
    }
   ],
   "source": [
    "df = pd.concat([tmp_pos, tmp_neg], ignore_index=True)\n",
    "print(df.shape)\n",
    "df.head(5)"
   ]
  },
  {
   "cell_type": "code",
   "execution_count": 8,
   "metadata": {},
   "outputs": [],
   "source": [
    "df.to_csv('fci.csv', index=False)"
   ]
  },
  {
   "cell_type": "code",
   "execution_count": null,
   "metadata": {},
   "outputs": [],
   "source": []
  }
 ]
}