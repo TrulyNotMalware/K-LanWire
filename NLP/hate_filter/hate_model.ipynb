{
 "metadata": {
  "language_info": {
   "codemirror_mode": {
    "name": "ipython",
    "version": 3
   },
   "file_extension": ".py",
   "mimetype": "text/x-python",
   "name": "python",
   "nbconvert_exporter": "python",
   "pygments_lexer": "ipython3",
   "version": "3.6.5-final"
  },
  "orig_nbformat": 2,
  "kernelspec": {
   "name": "python3",
   "display_name": "Python 3",
   "language": "python"
  }
 },
 "nbformat": 4,
 "nbformat_minor": 2,
 "cells": [
  {
   "source": [
    "### 모델 학습 코드, 배포 모델은 hate_model.py 확인"
   ],
   "cell_type": "markdown",
   "metadata": {}
  },
  {
   "cell_type": "code",
   "execution_count": 21,
   "metadata": {},
   "outputs": [
    {
     "output_type": "execute_result",
     "data": {
      "text/plain": [
       "                                            comments  hate  label\n",
       "0  현재 호텔 주인 심정 아 난 마른 하늘에 날 벼락 맞고 호텔 망하게 생겼는데 누군 ...  hate      1\n",
       "1  한국적인 미인의 대표적인 분 너무나 곱고 아름다운 모습 그 모습 뒤의 슬픔을 미 처...  none      0\n",
       "2  못된 넘들남의 고통을 즐겼던 넘들이 젠 마땅한 처벌을 받아야지 그래야 공정한 사회 ...  hate      1\n",
       "3                     화 어설 펐는데 화 지나서부터는 갈수록 너무 재밌던 데  none      0\n",
       "4    사람 얼굴 손톱으로 긁은 것은 인격 살해이고 동영상이 몰카냐 메걸리안 들 생각이 없노  hate      1"
      ],
      "text/html": "<div>\n<style scoped>\n    .dataframe tbody tr th:only-of-type {\n        vertical-align: middle;\n    }\n\n    .dataframe tbody tr th {\n        vertical-align: top;\n    }\n\n    .dataframe thead th {\n        text-align: right;\n    }\n</style>\n<table border=\"1\" class=\"dataframe\">\n  <thead>\n    <tr style=\"text-align: right;\">\n      <th></th>\n      <th>comments</th>\n      <th>hate</th>\n      <th>label</th>\n    </tr>\n  </thead>\n  <tbody>\n    <tr>\n      <th>0</th>\n      <td>현재 호텔 주인 심정 아 난 마른 하늘에 날 벼락 맞고 호텔 망하게 생겼는데 누군 ...</td>\n      <td>hate</td>\n      <td>1</td>\n    </tr>\n    <tr>\n      <th>1</th>\n      <td>한국적인 미인의 대표적인 분 너무나 곱고 아름다운 모습 그 모습 뒤의 슬픔을 미 처...</td>\n      <td>none</td>\n      <td>0</td>\n    </tr>\n    <tr>\n      <th>2</th>\n      <td>못된 넘들남의 고통을 즐겼던 넘들이 젠 마땅한 처벌을 받아야지 그래야 공정한 사회 ...</td>\n      <td>hate</td>\n      <td>1</td>\n    </tr>\n    <tr>\n      <th>3</th>\n      <td>화 어설 펐는데 화 지나서부터는 갈수록 너무 재밌던 데</td>\n      <td>none</td>\n      <td>0</td>\n    </tr>\n    <tr>\n      <th>4</th>\n      <td>사람 얼굴 손톱으로 긁은 것은 인격 살해이고 동영상이 몰카냐 메걸리안 들 생각이 없노</td>\n      <td>hate</td>\n      <td>1</td>\n    </tr>\n  </tbody>\n</table>\n</div>"
     },
     "metadata": {},
     "execution_count": 21
    }
   ],
   "source": [
    "import pandas as pd\n",
    "train = pd.read_csv('hate_train_spaced.csv')\n",
    "test = pd.read_csv('hate_test_spaced.csv')\n",
    "train = pd.concat([train, test], ignore_index=True)\n",
    "train.head(5)"
   ]
  },
  {
   "cell_type": "code",
   "execution_count": 2,
   "metadata": {},
   "outputs": [
    {
     "output_type": "execute_result",
     "data": {
      "text/plain": [
       "1    4721\n",
       "0    3646\n",
       "Name: label, dtype: int64"
      ]
     },
     "metadata": {},
     "execution_count": 2
    }
   ],
   "source": [
    "train['label'].value_counts()"
   ]
  },
  {
   "cell_type": "code",
   "execution_count": 3,
   "metadata": {},
   "outputs": [],
   "source": [
    "from transformers import ElectraTokenizer\n",
    "\n",
    "train_X = train['comments'].tolist()\n",
    "\n",
    "tokenizer = ElectraTokenizer.from_pretrained('monologg/koelectra-base-v3-discriminator')\n",
    "train_X = tokenizer(train_X, truncation=True, padding=True)"
   ]
  },
  {
   "cell_type": "code",
   "execution_count": 4,
   "metadata": {},
   "outputs": [
    {
     "output_type": "stream",
     "name": "stdout",
     "text": [
      "(8367, 76)\n(8367, 76)\n(8367,)\n"
     ]
    }
   ],
   "source": [
    "import numpy as np\n",
    "train_toks = np.asarray(train_X['input_ids'])\n",
    "train_masks = np.asarray(train_X['attention_mask'])\n",
    "\n",
    "train_y = np.asarray(train['label'])\n",
    "\n",
    "print(train_toks.shape)\n",
    "print(train_masks.shape)\n",
    "print(train_y.shape)\n",
    "\n",
    "emb_len = train_toks.shape[-1]"
   ]
  },
  {
   "cell_type": "code",
   "execution_count": 7,
   "metadata": {},
   "outputs": [
    {
     "output_type": "stream",
     "name": "stdout",
     "text": [
      "Model: \"functional_1\"\n__________________________________________________________________________________________________\nLayer (type)                    Output Shape         Param #     Connected to                     \n==================================================================================================\ntoks (InputLayer)               [(None, 76)]         0                                            \n__________________________________________________________________________________________________\nmasks (InputLayer)              [(None, 76)]         0                                            \n__________________________________________________________________________________________________\ntf_electra_model (TFElectraMode TFBaseModelOutput(la 14056192    toks[0][0]                       \n                                                                 masks[0][0]                      \n__________________________________________________________________________________________________\nglobal_average_pooling1d (Globa (None, 256)          0           tf_electra_model[0][0]           \n__________________________________________________________________________________________________\ndense (Dense)                   (None, 32)           8224        global_average_pooling1d[0][0]   \n__________________________________________________________________________________________________\ndropout_37 (Dropout)            (None, 32)           0           dense[0][0]                      \n__________________________________________________________________________________________________\ndense_1 (Dense)                 (None, 2)            66          dropout_37[0][0]                 \n==================================================================================================\nTotal params: 14,064,482\nTrainable params: 14,064,482\nNon-trainable params: 0\n__________________________________________________________________________________________________\n"
     ]
    }
   ],
   "source": [
    "from transformers import logging, TFElectraModel\n",
    "logging.set_verbosity_error()\n",
    "import tensorflow as tf\n",
    "\n",
    "electra_model = TFElectraModel.from_pretrained('monologg/koelectra-small-v3-discriminator', from_pt=True)\n",
    "\n",
    "input_toks = tf.keras.layers.Input(shape=(emb_len,), name='toks', dtype='int32')\n",
    "input_masks = tf.keras.layers.Input(shape=(emb_len,), name='masks', dtype='int32')\n",
    "\n",
    "electra_output = electra_model(input_toks, attention_mask=input_masks).last_hidden_state\n",
    "\n",
    "x = tf.keras.layers.GlobalAveragePooling1D()(electra_output)\n",
    "x = tf.keras.layers.Dense(128, activation='relu')(x)\n",
    "x = tf.keras.layers.Dropout(0.2)(x)\n",
    "x = tf.keras.layers.Dense(32, activation='relu')(x)\n",
    "x = tf.keras.layers.Dropout(0.2)(x)\n",
    "y = tf.keras.layers.Dense(2, activation='softmax')(x)\n",
    "\n",
    "model = tf.keras.models.Model(inputs=[input_toks, input_masks], outputs=y)\n",
    "adam = tf.keras.optimizers.Adam(learning_rate=2e-5)\n",
    "\n",
    "model.compile(optimizer=adam, loss='sparse_categorical_crossentropy', metrics=['accuracy'])\n",
    "model.summary()"
   ]
  },
  {
   "cell_type": "code",
   "execution_count": 7,
   "metadata": {},
   "outputs": [],
   "source": [
    "#history = model.fit(x={'toks':train_toks, 'masks':train_masks}, y=train_y, epochs=5, validation_split=0.2)"
   ]
  },
  {
   "cell_type": "code",
   "execution_count": 6,
   "metadata": {},
   "outputs": [
    {
     "output_type": "stream",
     "name": "stdout",
     "text": [
      "Epoch 1/3\n",
      "262/262 [==============================] - 33s 126ms/step - loss: 0.6137 - accuracy: 0.6602\n",
      "Epoch 2/3\n",
      "262/262 [==============================] - 36s 136ms/step - loss: 0.5412 - accuracy: 0.7269\n",
      "Epoch 3/3\n",
      "262/262 [==============================] - 35s 132ms/step - loss: 0.4961 - accuracy: 0.7549\n"
     ]
    },
    {
     "output_type": "execute_result",
     "data": {
      "text/plain": [
       "<tensorflow.python.keras.callbacks.History at 0x1ec41db8550>"
      ]
     },
     "metadata": {},
     "execution_count": 6
    }
   ],
   "source": [
    "model.fit(x={'toks':train_toks, 'masks':train_masks}, y=train_y, epochs=3)"
   ]
  },
  {
   "cell_type": "code",
   "execution_count": 7,
   "metadata": {},
   "outputs": [
    {
     "output_type": "stream",
     "name": "stdout",
     "text": [
      "(1, 76)\n(1, 76)\n"
     ]
    }
   ],
   "source": [
    "test_X = tokenizer(['아니 진짜 이런걸 왜 모르지 고등학생도 알겠다 대학생 맞냐'], truncation=True, padding='max_length', max_length=emb_len)\n",
    "test_toks = np.asarray(test_X['input_ids'])\n",
    "test_masks = np.asarray(test_X['attention_mask'])\n",
    "\n",
    "print(test_toks.shape)\n",
    "print(test_masks.shape)"
   ]
  },
  {
   "cell_type": "code",
   "execution_count": 8,
   "metadata": {},
   "outputs": [
    {
     "output_type": "execute_result",
     "data": {
      "text/plain": [
       "array([[0.4150297, 0.5849703]], dtype=float32)"
      ]
     },
     "metadata": {},
     "execution_count": 8
    }
   ],
   "source": [
    "model.predict(x={'toks':test_toks, 'masks':test_masks})"
   ]
  },
  {
   "cell_type": "code",
   "execution_count": 10,
   "metadata": {},
   "outputs": [],
   "source": [
    "model.save_weights('hate_weights/')"
   ]
  },
  {
   "cell_type": "code",
   "execution_count": 16,
   "metadata": {},
   "outputs": [],
   "source": [
    "test_texts = ['아니 이런걸 왜 모르지 이런건 고등학생도 알겠다 대학생 맞냐', \n",
    "                '신공학관 1층에도 있고 학생회관 2층에도 있음',\n",
    "                '니가 먼저 직접 알아보고 여기다가 질문하라고',\n",
    "                '새천년관 가려면 정문보다는 후문이 더 빠르지']"
   ]
  },
  {
   "cell_type": "code",
   "execution_count": 20,
   "metadata": {},
   "outputs": [
    {
     "output_type": "stream",
     "name": "stdout",
     "text": [
      "아니 이런걸 왜 모르지 이런건 고등학생도 알겠다 대학생 맞냐 -> 악플입니다\n신공학관 1층에도 있고 학생회관 2층에도 있음 -> 악플이 아닙니다\n니가 먼저 직접 알아보고 여기다가 질문하라고 -> 악플입니다\n새천년관 가려면 정문보다는 후문이 더 빠르지 -> 악플이 아닙니다\n"
     ]
    }
   ],
   "source": [
    "test_X = tokenizer(test_texts, truncation=True, padding='max_length', max_length=emb_len)\n",
    "test_toks = np.asarray(test_X['input_ids'])\n",
    "test_masks = np.asarray(test_X['attention_mask'])\n",
    "\n",
    "pred = model.predict(x={'toks':test_toks, 'masks':test_masks})\n",
    "\n",
    "THRESH = 0.7\n",
    "for i, entry in enumerate(test_texts):\n",
    "    if pred[i][0] >= THRESH:\n",
    "        print(entry, '-> 악플이 아닙니다')\n",
    "    else:\n",
    "        print(entry, '-> 악플입니다')"
   ]
  }
 ]
}