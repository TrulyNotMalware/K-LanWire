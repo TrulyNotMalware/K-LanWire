{
 "metadata": {
  "language_info": {
   "codemirror_mode": {
    "name": "ipython",
    "version": 3
   },
   "file_extension": ".py",
   "mimetype": "text/x-python",
   "name": "python",
   "nbconvert_exporter": "python",
   "pygments_lexer": "ipython3",
   "version": "3.6.5-final"
  },
  "orig_nbformat": 2,
  "kernelspec": {
   "name": "python3",
   "display_name": "Python 3",
   "language": "python"
  }
 },
 "nbformat": 4,
 "nbformat_minor": 2,
 "cells": [
  {
   "source": [
    "### 악플 학습 데이터 전처리"
   ],
   "cell_type": "markdown",
   "metadata": {}
  },
  {
   "cell_type": "code",
   "execution_count": 2,
   "metadata": {},
   "outputs": [
    {
     "output_type": "execute_result",
     "data": {
      "text/plain": [
       "                                            comments  contain_gender_bias  \\\n",
       "0                        송중기 시대극은 믿고본다. 첫회 신선하고 좋았다.                False   \n",
       "1                                            지현우 나쁜놈                False   \n",
       "2         알바쓰고많이만들면되지 돈욕심없으면골목식당왜나온겨 기댕기게나하고 산에가서팔어라                False   \n",
       "3                                   설마 ㅈ 현정 작가 아니지??                 True   \n",
       "4  이미자씨 송혜교씨 돈이 그리 많으면 탈세말고 그돈으로 평소에 불우이웃에게 기부도 좀...                False   \n",
       "\n",
       "     bias       hate  \n",
       "0    none       none  \n",
       "1    none  offensive  \n",
       "2    none       hate  \n",
       "3  gender       hate  \n",
       "4    none  offensive  "
      ],
      "text/html": "<div>\n<style scoped>\n    .dataframe tbody tr th:only-of-type {\n        vertical-align: middle;\n    }\n\n    .dataframe tbody tr th {\n        vertical-align: top;\n    }\n\n    .dataframe thead th {\n        text-align: right;\n    }\n</style>\n<table border=\"1\" class=\"dataframe\">\n  <thead>\n    <tr style=\"text-align: right;\">\n      <th></th>\n      <th>comments</th>\n      <th>contain_gender_bias</th>\n      <th>bias</th>\n      <th>hate</th>\n    </tr>\n  </thead>\n  <tbody>\n    <tr>\n      <th>0</th>\n      <td>송중기 시대극은 믿고본다. 첫회 신선하고 좋았다.</td>\n      <td>False</td>\n      <td>none</td>\n      <td>none</td>\n    </tr>\n    <tr>\n      <th>1</th>\n      <td>지현우 나쁜놈</td>\n      <td>False</td>\n      <td>none</td>\n      <td>offensive</td>\n    </tr>\n    <tr>\n      <th>2</th>\n      <td>알바쓰고많이만들면되지 돈욕심없으면골목식당왜나온겨 기댕기게나하고 산에가서팔어라</td>\n      <td>False</td>\n      <td>none</td>\n      <td>hate</td>\n    </tr>\n    <tr>\n      <th>3</th>\n      <td>설마 ㅈ 현정 작가 아니지??</td>\n      <td>True</td>\n      <td>gender</td>\n      <td>hate</td>\n    </tr>\n    <tr>\n      <th>4</th>\n      <td>이미자씨 송혜교씨 돈이 그리 많으면 탈세말고 그돈으로 평소에 불우이웃에게 기부도 좀...</td>\n      <td>False</td>\n      <td>none</td>\n      <td>offensive</td>\n    </tr>\n  </tbody>\n</table>\n</div>"
     },
     "metadata": {},
     "execution_count": 2
    }
   ],
   "source": [
    "import pandas as pd\n",
    "\n",
    "df = pd.read_csv('dev.tsv', sep='\\t', header=0)\n",
    "df.head(5)"
   ]
  },
  {
   "cell_type": "code",
   "execution_count": 3,
   "metadata": {},
   "outputs": [
    {
     "output_type": "execute_result",
     "data": {
      "text/plain": [
       "                                            comments       hate  label\n",
       "0                        송중기 시대극은 믿고본다. 첫회 신선하고 좋았다.       none      0\n",
       "1                                            지현우 나쁜놈  offensive      1\n",
       "2         알바쓰고많이만들면되지 돈욕심없으면골목식당왜나온겨 기댕기게나하고 산에가서팔어라       hate      1\n",
       "3                                   설마 ㅈ 현정 작가 아니지??       hate      1\n",
       "4  이미자씨 송혜교씨 돈이 그리 많으면 탈세말고 그돈으로 평소에 불우이웃에게 기부도 좀...  offensive      1"
      ],
      "text/html": "<div>\n<style scoped>\n    .dataframe tbody tr th:only-of-type {\n        vertical-align: middle;\n    }\n\n    .dataframe tbody tr th {\n        vertical-align: top;\n    }\n\n    .dataframe thead th {\n        text-align: right;\n    }\n</style>\n<table border=\"1\" class=\"dataframe\">\n  <thead>\n    <tr style=\"text-align: right;\">\n      <th></th>\n      <th>comments</th>\n      <th>hate</th>\n      <th>label</th>\n    </tr>\n  </thead>\n  <tbody>\n    <tr>\n      <th>0</th>\n      <td>송중기 시대극은 믿고본다. 첫회 신선하고 좋았다.</td>\n      <td>none</td>\n      <td>0</td>\n    </tr>\n    <tr>\n      <th>1</th>\n      <td>지현우 나쁜놈</td>\n      <td>offensive</td>\n      <td>1</td>\n    </tr>\n    <tr>\n      <th>2</th>\n      <td>알바쓰고많이만들면되지 돈욕심없으면골목식당왜나온겨 기댕기게나하고 산에가서팔어라</td>\n      <td>hate</td>\n      <td>1</td>\n    </tr>\n    <tr>\n      <th>3</th>\n      <td>설마 ㅈ 현정 작가 아니지??</td>\n      <td>hate</td>\n      <td>1</td>\n    </tr>\n    <tr>\n      <th>4</th>\n      <td>이미자씨 송혜교씨 돈이 그리 많으면 탈세말고 그돈으로 평소에 불우이웃에게 기부도 좀...</td>\n      <td>offensive</td>\n      <td>1</td>\n    </tr>\n  </tbody>\n</table>\n</div>"
     },
     "metadata": {},
     "execution_count": 3
    }
   ],
   "source": [
    "df['label'] = 0\n",
    "df['label'].loc[df['hate'] != 'none'] = 1\n",
    "df.drop(columns=['contain_gender_bias', 'bias'], inplace=True)\n",
    "df.head(5)"
   ]
  },
  {
   "cell_type": "code",
   "execution_count": 4,
   "metadata": {},
   "outputs": [
    {
     "output_type": "execute_result",
     "data": {
      "text/plain": [
       "                                            comments       hate  label\n",
       "0                          송중기 시대극은 믿고본다 첫회 신선하고 좋았다       none      0\n",
       "1                                            지현우 나쁜놈  offensive      1\n",
       "2         알바쓰고많이만들면되지 돈욕심없으면골목식당왜나온겨 기댕기게나하고 산에가서팔어라       hate      1\n",
       "3                                      설마  현정 작가 아니지       hate      1\n",
       "4  이미자씨 송혜교씨 돈이 그리 많으면 탈세말고 그돈으로 평소에 불우이웃에게 기부도 좀...  offensive      1"
      ],
      "text/html": "<div>\n<style scoped>\n    .dataframe tbody tr th:only-of-type {\n        vertical-align: middle;\n    }\n\n    .dataframe tbody tr th {\n        vertical-align: top;\n    }\n\n    .dataframe thead th {\n        text-align: right;\n    }\n</style>\n<table border=\"1\" class=\"dataframe\">\n  <thead>\n    <tr style=\"text-align: right;\">\n      <th></th>\n      <th>comments</th>\n      <th>hate</th>\n      <th>label</th>\n    </tr>\n  </thead>\n  <tbody>\n    <tr>\n      <th>0</th>\n      <td>송중기 시대극은 믿고본다 첫회 신선하고 좋았다</td>\n      <td>none</td>\n      <td>0</td>\n    </tr>\n    <tr>\n      <th>1</th>\n      <td>지현우 나쁜놈</td>\n      <td>offensive</td>\n      <td>1</td>\n    </tr>\n    <tr>\n      <th>2</th>\n      <td>알바쓰고많이만들면되지 돈욕심없으면골목식당왜나온겨 기댕기게나하고 산에가서팔어라</td>\n      <td>hate</td>\n      <td>1</td>\n    </tr>\n    <tr>\n      <th>3</th>\n      <td>설마  현정 작가 아니지</td>\n      <td>hate</td>\n      <td>1</td>\n    </tr>\n    <tr>\n      <th>4</th>\n      <td>이미자씨 송혜교씨 돈이 그리 많으면 탈세말고 그돈으로 평소에 불우이웃에게 기부도 좀...</td>\n      <td>offensive</td>\n      <td>1</td>\n    </tr>\n  </tbody>\n</table>\n</div>"
     },
     "metadata": {},
     "execution_count": 4
    }
   ],
   "source": [
    "df['comments'] = df['comments'].str.replace('[^가-힣\\s]', '', regex=True)\n",
    "df.head(5)"
   ]
  },
  {
   "cell_type": "code",
   "execution_count": 5,
   "metadata": {},
   "outputs": [
    {
     "output_type": "execute_result",
     "data": {
      "text/plain": [
       "                                            comments       hate  label\n",
       "0                        송중기 시대극은 믿고 본다 첫 회 신선하고 좋았다       none      0\n",
       "1                                           지현우 나쁜 놈  offensive      1\n",
       "2  알바 쓰고 많이 만들면 되지 돈 욕심 없으면 골목식당 왜 나온 겨 기댕기게나 하고 ...       hate      1\n",
       "3                                      설마 현 정 작가 아니지       hate      1\n",
       "4  이미 자씨 송혜교씨 돈이 그리 많으면 탈세 말고 그 돈으로 평소에 불우이웃에게 기부...  offensive      1"
      ],
      "text/html": "<div>\n<style scoped>\n    .dataframe tbody tr th:only-of-type {\n        vertical-align: middle;\n    }\n\n    .dataframe tbody tr th {\n        vertical-align: top;\n    }\n\n    .dataframe thead th {\n        text-align: right;\n    }\n</style>\n<table border=\"1\" class=\"dataframe\">\n  <thead>\n    <tr style=\"text-align: right;\">\n      <th></th>\n      <th>comments</th>\n      <th>hate</th>\n      <th>label</th>\n    </tr>\n  </thead>\n  <tbody>\n    <tr>\n      <th>0</th>\n      <td>송중기 시대극은 믿고 본다 첫 회 신선하고 좋았다</td>\n      <td>none</td>\n      <td>0</td>\n    </tr>\n    <tr>\n      <th>1</th>\n      <td>지현우 나쁜 놈</td>\n      <td>offensive</td>\n      <td>1</td>\n    </tr>\n    <tr>\n      <th>2</th>\n      <td>알바 쓰고 많이 만들면 되지 돈 욕심 없으면 골목식당 왜 나온 겨 기댕기게나 하고 ...</td>\n      <td>hate</td>\n      <td>1</td>\n    </tr>\n    <tr>\n      <th>3</th>\n      <td>설마 현 정 작가 아니지</td>\n      <td>hate</td>\n      <td>1</td>\n    </tr>\n    <tr>\n      <th>4</th>\n      <td>이미 자씨 송혜교씨 돈이 그리 많으면 탈세 말고 그 돈으로 평소에 불우이웃에게 기부...</td>\n      <td>offensive</td>\n      <td>1</td>\n    </tr>\n  </tbody>\n</table>\n</div>"
     },
     "metadata": {},
     "execution_count": 5
    }
   ],
   "source": [
    "from pykospacing import spacing\n",
    "df['comments'] = df['comments'].apply(spacing)\n",
    "df.head(5)"
   ]
  },
  {
   "cell_type": "code",
   "execution_count": 6,
   "metadata": {},
   "outputs": [],
   "source": [
    "df.to_csv('hate_test_spaced.csv', index=False)"
   ]
  }
 ]
}